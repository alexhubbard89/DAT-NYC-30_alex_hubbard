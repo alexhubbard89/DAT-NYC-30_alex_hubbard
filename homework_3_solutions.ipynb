{
 "cells": [
  {
   "cell_type": "markdown",
   "metadata": {},
   "source": [
    "Instructions: answer the following questions with data and visuals (where appropriate)\n",
    "=="
   ]
  },
  {
   "cell_type": "markdown",
   "metadata": {},
   "source": [
    "- Give an overall summary of your performance from HW2 on the dataset\n",
    "- Do you see any areas for improvement?\n",
    "- Run k-Means on the dataset and describe your results\n",
    "- Run PCA on the dataset and describe your results\n",
    "- Use the cluster outputs you got from running k-means as a new feature. Rerun your \"worst\" and \"best\" model from HW2, including this new feature along with your old features. Describe your results.\n",
    "- Use the PCA outputs you got from running PCA above as your features. Rerun your \"worst\" and \"best\" model from HW2, - with the PCA features instead of your old features. Describe your results.\n",
    "- Give your conclusions on the use of k-Means and PCA on the Diabetes dataset\n"
   ]
  },
  {
   "cell_type": "markdown",
   "metadata": {},
   "source": [
    "Analysis:\n",
    "==\n",
    "\n",
    "This section contains the anlysis of my homework."
   ]
  },
  {
   "cell_type": "markdown",
   "metadata": {},
   "source": [
    "## 1) Give an overall summary of your performance from HW2 on the dataset\n",
    "ehhh not my best work. Although I understand the concepts of each algorithm, when it came to implementing the code I felt lost. "
   ]
  },
  {
   "cell_type": "markdown",
   "metadata": {},
   "source": [
    "## 2) Do you see any areas for improvement?\n",
    "\n",
    "Yes, I want to revistit most of the work from hw2. Particularly focusing on Naive Bayes and Random Forest.\n"
   ]
  },
  {
   "cell_type": "markdown",
   "metadata": {},
   "source": [
    "## 3) Run k-Means on the dataset and describe your results\n",
    "I explored multiple different k options, but landed on using k==2. Since we're only attempting to find 2 populations - does have diabetes and does not have diabetes- I concluded that k==2 was the best way to search for those groups.\n",
    "\n",
    "Once decided to use k==2 I generated an accuracy score, silhouette score, and inertia score. \n",
    "\n",
    "- Accuracy of K-means == 36.94%\n",
    "- Silhouette score is 25.46% when K == 2\n",
    "- Inertia score is 1671.77413745 when k = 2"
   ]
  },
  {
   "cell_type": "markdown",
   "metadata": {
    "collapsed": true
   },
   "source": [
    "## 4) Run PCA on the dataset and describe your results\n",
    "I wanted PCA to return components that would explain at least 90% of the data sets's variance. The data set I used for PCA had 7 features. The results of the analysis determined that 5 components explain 90% of the variance. "
   ]
  },
  {
   "cell_type": "markdown",
   "metadata": {},
   "source": [
    "## 5) Use the cluster outputs you got from running k-means as a new feature. Rerun your \"worst\" and \"best\" model from HW2, including this new feature along with your old features. Describe your results.\n",
    "\n",
    "For homework 2 the best perfomring algorithm was kNN, and the worst performing was MultinomialNB. MultinomialNB may have been the worse performing because it was the one I felt like I struggled with the most. Additionally, in this project I used GaussianNB instead of MultinomialNB. Before I fed the data set to K-mean I scaled the features. I then tried to used the scaled features, along with the results from k-mean, with MultinomialNB. Because scaling turned some data points into negative numbers MultinomialNB was unable to perform the analysis. Since GaussianNB does not have trouble with negative numbers I decided to use GaussianNB rather than MultinomialNB.\n",
    "\n",
    "When performing the analyses I established baseline accuracy for kNN and GaussianNB.\n",
    "- kNN accuracy: 80.77% when k==47\n",
    "- GaussianNB accuracy: 78.06% on the training data, and 75.64% on the test data.\n",
    "\n",
    "After creating the baseline accuracy scores, I used the predictors from k-means clusters as a new feature and retested the accuracy of kNN and GaussianNB.\n",
    "- kNN accuracy with k-means: 80.77% when k==42\n",
    "- GaussianNB accuracy with k-means: 74.84% on the training data, and 74.36% on the test data.\n",
    "\n",
    "**k-means as a new feature:**\n",
    "using k-means as a new feature did not seem to have an impact on kNN and slightly lowered accuracy for GaussianNB. \n",
    "\n",
    "\n",
    "\n"
   ]
  },
  {
   "cell_type": "markdown",
   "metadata": {},
   "source": [
    "## 6) Use the PCA outputs you got from running PCA above as your features. Rerun your \"worst\" and \"best\" model from HW2, - with the PCA features instead of your old features. Describe your results.\n",
    "\n",
    "After creating the baseline accuracy scores, I used used the outputs from PCA and retested the accuracy of kNN and GaussianNB.\n",
    "- kNN accuracy with PCA outputs: 75.64%% when k==32\n",
    "- GaussianNB accuracy with PCA outputs: 77.10% on the training data, and 71.79% on the test data.\n",
    "\n",
    "**Using PCA inputs:**\n",
    "Using the PCA outputs lowered the accuracy for kNN as well as GaussianNB.\n"
   ]
  },
  {
   "cell_type": "markdown",
   "metadata": {},
   "source": [
    "## 7) Give your conclusions on the use of k-Means and PCA on the Diabetes dataset\n",
    "\n",
    "I was not very impressed by the results of k-means or PCA. Initially I believed that PCA would yeild higher accuracy results. I was also very hopeful to see better performance by using k-mean predictions as new variables. In addition to using k-mean and PCA, I attemped to use new variables and even removed outliers from the data set. Each of these explorations returned poorer results. I therefore did not include them in the final homework analysis.\n",
    "\n",
    "Even though I did not see the results I wanted, using k-mean or PCA in a modeling pipeline seems like a very smart idea. I will definately test with it in the future."
   ]
  },
  {
   "cell_type": "markdown",
   "metadata": {},
   "source": [
    "Vizuals\n",
    "==\n",
    "\n",
    "This section contains all vizual aspects of my homework."
   ]
  },
  {
   "cell_type": "markdown",
   "metadata": {},
   "source": [
    "## 3) Run k-Means on the dataset and describe your results\n",
    "I explored multiple different k options, but landed on using k==2. Since we're only attempting to find 2 populations, does have diabetes and does not have diabetes, I concluded that k==2 was the best way to search for those groups."
   ]
  },
  {
   "cell_type": "code",
   "execution_count": 586,
   "metadata": {
    "collapsed": false
   },
   "outputs": [
    {
     "data": {
      "image/png": "[encoded data removed]",
      "text/plain": [
       "<matplotlib.figure.Figure at 0x10c2e0790>"
      ]
     },
     "metadata": {},
     "output_type": "display_data"
    }
   ],
   "source": [
    "# Visualize the clusters and describe anything you see\n",
    "x = []\n",
    "y_plot = []\n",
    "for n in range(2,40):\n",
    "    km2 = KMeans(n_clusters=n, n_init=20)\n",
    "    centers = km2.fit_predict(X_scale)\n",
    "    x.append(n)\n",
    "    y_plot.append(silhouette_score(X_scale, centers))\n",
    "plt.plot(x, y_plot);"
   ]
  },
  {
   "cell_type": "code",
   "execution_count": 587,
   "metadata": {
    "collapsed": false
   },
   "outputs": [
    {
     "data": {
      "image/png": "[encoded data removed]",
      "text/plain": [
       "<matplotlib.figure.Figure at 0x1092fda10>"
      ]
     },
     "metadata": {},
     "output_type": "display_data"
    }
   ],
   "source": [
    "# lower numbers are better but no sense of a \"good\" number\n",
    "\n",
    "# Visualize the clusters and describe anything you see\n",
    "\n",
    "x = []\n",
    "y_plot = []\n",
    "for n in range(2,40):\n",
    "    km2 = KMeans(n_clusters=n, n_init=20)\n",
    "    km2.fit(X_scale)\n",
    "    x.append(n)\n",
    "    y_plot.append(km2.inertia_)\n",
    "plt.plot(x, y_plot);"
   ]
  },
  {
   "cell_type": "markdown",
   "metadata": {},
   "source": [
    "## 4) Run PCA on the dataset and describe your results\n",
    "I wanted PCA to return components that would explain at least 90% of the data sets's variance. The data set I used for PCA had 7 features. The results of the analysis determined that 5 components explain 90% of the variance. "
   ]
  },
  {
   "cell_type": "code",
   "execution_count": 588,
   "metadata": {
    "collapsed": false
   },
   "outputs": [
    {
     "data": {
      "image/png": "[encoded data removed]",
      "text/plain": [
       "<matplotlib.figure.Figure at 0x10d026a10>"
      ]
     },
     "metadata": {},
     "output_type": "display_data"
    }
   ],
   "source": [
    "# plot variance\n",
    "# add dotted line at 90%\n",
    "plt.figure(figsize=(6, 4))\n",
    "\n",
    "plt.bar(range(n_components_input), var_exp, alpha=0.5, align='center', \n",
    "        label='individual explained variance')\n",
    "plt.step(range(n_components_input), cum_var_exp, where='mid',\n",
    "         label='cumulative explained variance')\n",
    "plt.ylabel('Explained variance ratio')\n",
    "plt.xlabel('Principal components')\n",
    "plt.ylim(0, 105)\n",
    "plt.legend(bbox_to_anchor=(1.65, 1.02))\n",
    "plt.axhline(y=90, ls='dashed', lw=1, color='black')\n",
    "plt.annotate('- - - 90% variance', xy=(0, 95), xytext=(0, 95))\n",
    "plt.tight_layout()"
   ]
  },
  {
   "cell_type": "markdown",
   "metadata": {},
   "source": [
    "## 5) Use the cluster outputs you got from running k-means as a new feature. Rerun your \"worst\" and \"best\" model from HW2, including this new feature along with your old features. Describe your results."
   ]
  },
  {
   "cell_type": "markdown",
   "metadata": {},
   "source": [
    "When performing the analyses I established baseline accuracy for kNN and GaussianNB.\n",
    "kNN accuracy: 80.77% when k==47\n",
    "GaussianNB accuracy: 78.06% on the training data, and 75.64% on the test data."
   ]
  },
  {
   "cell_type": "markdown",
   "metadata": {},
   "source": [
    "## kNN baseline"
   ]
  },
  {
   "cell_type": "code",
   "execution_count": 594,
   "metadata": {
    "collapsed": false
   },
   "outputs": [
    {
     "data": {
      "image/png": "[encoded data removed]",
      "text/plain": [
       "<matplotlib.figure.Figure at 0x10d281190>"
      ]
     },
     "metadata": {},
     "output_type": "display_data"
    }
   ],
   "source": [
    "# use matplotlib to make a visualization showing how the score\n",
    "# changes when we change n_neighbors\n",
    "scores = []\n",
    "n_neighbors = range(1, 101)\n",
    "for n in n_neighbors:\n",
    "    knn = KNeighborsClassifier(n_neighbors=n, weights='uniform', p=2)\n",
    "    knn.fit(X_train, y_train)\n",
    "    scores.append(knn.score(X_test, y_test))\n",
    "    \n",
    "plt.plot(n_neighbors, scores)\n",
    "plt.ylim(.7, .81);"
   ]
  },
  {
   "cell_type": "code",
   "execution_count": 600,
   "metadata": {
    "collapsed": false
   },
   "outputs": [
    {
     "name": "stdout",
     "output_type": "stream",
     "text": [
      "Max accuracy score is 80.77%%\n",
      "K == 42 when the accuracy score is the greatest\n"
     ]
    }
   ],
   "source": [
    "kNN_results = pd.DataFrame(n_neighbors)\n",
    "kNN_results['accuracy'] = scores\n",
    "kNN_results.columns = ['k', 'accuracy']\n",
    "accuracy_max_k = kNN_results[kNN_results['accuracy'] == kNN_results['accuracy'].max()]['k'].reset_index(drop=True)[0]\n",
    "print 'Max accuracy score is {}%%'.format(float(round(kNN_results['accuracy'].max(), 4)*100))\n",
    "print 'K == {} when the accuracy score is the greatest'.format(accuracy_max_k)"
   ]
  },
  {
   "cell_type": "markdown",
   "metadata": {},
   "source": [
    "## GaussianNB baseline"
   ]
  },
  {
   "cell_type": "code",
   "execution_count": 604,
   "metadata": {
    "collapsed": false
   },
   "outputs": [
    {
     "name": "stdout",
     "output_type": "stream",
     "text": [
      "\n",
      "Prediction accuracy for the training dataset\n",
      "78.06%\n",
      "\n",
      "Prediction accuracy for the test dataset\n",
      "75.64%\n",
      "\n"
     ]
    }
   ],
   "source": [
    "from sklearn import metrics\n",
    "\n",
    "pred_train = gnb.predict(X_train)\n",
    "\n",
    "print('\\nPrediction accuracy for the training dataset')\n",
    "print('{:.2%}'.format(metrics.accuracy_score(y_train, pred_train)))\n",
    "\n",
    "pred_test = gnb.predict(X_test)\n",
    "\n",
    "print('\\nPrediction accuracy for the test dataset')\n",
    "print('{:.2%}\\n'.format(metrics.accuracy_score(y_test, pred_test)))"
   ]
  },
  {
   "cell_type": "markdown",
   "metadata": {},
   "source": [
    "## Use kNN to predict diabetes using predictions form K-means as a new feature"
   ]
  },
  {
   "cell_type": "code",
   "execution_count": 599,
   "metadata": {
    "collapsed": false
   },
   "outputs": [
    {
     "data": {
      "image/png": "[encoded data removed]",
      "text/plain": [
       "<matplotlib.figure.Figure at 0x10d7b6f50>"
      ]
     },
     "metadata": {},
     "output_type": "display_data"
    }
   ],
   "source": [
    "from sklearn.neighbors import KNeighborsClassifier\n",
    "# use matplotlib to make a visualization showing how the score\n",
    "# changes when we change n_neighbors\n",
    "# YOUR CODE HERE\n",
    "scores = []\n",
    "n_neighbors = range(1, 101)\n",
    "for n in n_neighbors:\n",
    "    knn = KNeighborsClassifier(n_neighbors=n, weights='uniform', p=2)\n",
    "    knn.fit(X_train, pd.Categorical(y_train['Class variable']))\n",
    "    scores.append(knn.score(X_test, pd.Categorical(y_test['Class variable'])))\n",
    "    \n",
    "plt.plot(n_neighbors, scores)\n",
    "plt.ylim(.7, .81);"
   ]
  },
  {
   "cell_type": "markdown",
   "metadata": {},
   "source": [
    "## Use GaussianNb to predict diabetes using predictions form K-means as a new feature"
   ]
  },
  {
   "cell_type": "code",
   "execution_count": 610,
   "metadata": {
    "collapsed": false
   },
   "outputs": [
    {
     "name": "stdout",
     "output_type": "stream",
     "text": [
      "\n",
      "Prediction accuracy for the training dataset\n",
      "74.84%\n",
      "\n",
      "Prediction accuracy for the test dataset\n",
      "74.36%\n",
      "\n"
     ]
    }
   ],
   "source": [
    "from sklearn import metrics\n",
    "\n",
    "pred_train = gnb.predict(X_train)\n",
    "\n",
    "print('\\nPrediction accuracy for the training dataset')\n",
    "print('{:.2%}'.format(metrics.accuracy_score(y_train, pred_train)))\n",
    "\n",
    "pred_test = gnb.predict(X_test)\n",
    "\n",
    "print('\\nPrediction accuracy for the test dataset')\n",
    "print('{:.2%}\\n'.format(metrics.accuracy_score(y_test, pred_test)))"
   ]
  },
  {
   "cell_type": "markdown",
   "metadata": {},
   "source": [
    "## 6) Use the PCA outputs you got from running PCA above as your features. Rerun your \"worst\" and \"best\" model from HW2, - with the PCA features instead of your old features. Describe your results."
   ]
  },
  {
   "cell_type": "markdown",
   "metadata": {},
   "source": [
    "## Use kNN from PCA"
   ]
  },
  {
   "cell_type": "code",
   "execution_count": 614,
   "metadata": {
    "collapsed": false
   },
   "outputs": [
    {
     "data": {
      "image/png": "[encoded data removed]",
      "text/plain": [
       "<matplotlib.figure.Figure at 0x10c7267d0>"
      ]
     },
     "metadata": {},
     "output_type": "display_data"
    }
   ],
   "source": [
    "from sklearn.neighbors import KNeighborsClassifier\n",
    "# use matplotlib to make a visualization showing how the score\n",
    "# changes when we change n_neighbors\n",
    "# YOUR CODE HERE\n",
    "scores = []\n",
    "n_neighbors = range(1, 101)\n",
    "for n in n_neighbors:\n",
    "    knn = KNeighborsClassifier(n_neighbors=n, weights='uniform', p=2)\n",
    "    knn.fit(pca.fit_transform(X_train), y_train)\n",
    "    scores.append(knn.score(pca.fit_transform(X_test), y_test))\n",
    "    \n",
    "plt.plot(n_neighbors, scores)\n",
    "plt.ylim(.64, .76);"
   ]
  },
  {
   "cell_type": "markdown",
   "metadata": {},
   "source": [
    "## Use GaussianNb from PCA"
   ]
  },
  {
   "cell_type": "code",
   "execution_count": 618,
   "metadata": {
    "collapsed": false
   },
   "outputs": [
    {
     "name": "stdout",
     "output_type": "stream",
     "text": [
      "\n",
      "Prediction accuracy for the training dataset\n",
      "77.10%\n",
      "\n",
      "Prediction accuracy for the test dataset\n",
      "71.79%\n",
      "\n"
     ]
    }
   ],
   "source": [
    "from sklearn import metrics\n",
    "\n",
    "pred_train = gnb.predict(X_train)\n",
    "\n",
    "print('\\nPrediction accuracy for the training dataset')\n",
    "print('{:.2%}'.format(metrics.accuracy_score(y_train, pred_train)))\n",
    "\n",
    "pred_test = gnb.predict(X_test)\n",
    "\n",
    "print('\\nPrediction accuracy for the test dataset')\n",
    "print('{:.2%}\\n'.format(metrics.accuracy_score(y_test, pred_test)))"
   ]
  },
  {
   "cell_type": "markdown",
   "metadata": {},
   "source": [
    "Code\n",
    "==\n",
    "\n",
    "This section contains the code of my homework (excluding exploratory work)."
   ]
  },
  {
   "cell_type": "code",
   "execution_count": 1,
   "metadata": {
    "collapsed": true
   },
   "outputs": [],
   "source": [
    "import requests\n",
    "import pandas as pd\n",
    "import csv\n",
    "import numpy as np\n",
    "import matplotlib.pyplot as plt\n",
    "from sklearn import datasets\n",
    "from sklearn.grid_search import GridSearchCV\n",
    "from sklearn.cross_validation import train_test_split, ShuffleSplit\n",
    "from sklearn.cluster import KMeans\n",
    "from sklearn.decomposition import PCA\n",
    "from sklearn.metrics import silhouette_score\n",
    "from sklearn.svm import SVC\n",
    "from sklearn.preprocessing import scale\n",
    "from __future__ import division\n",
    "from mpl_toolkits.mplot3d import Axes3D\n",
    "%matplotlib inline"
   ]
  },
  {
   "cell_type": "code",
   "execution_count": 2,
   "metadata": {
    "collapsed": false
   },
   "outputs": [
    {
     "data": {
      "text/html": [
       "<div>\n",
       "<table border=\"1\" class=\"dataframe\">\n",
       "  <thead>\n",
       "    <tr style=\"text-align: right;\">\n",
       "      <th></th>\n",
       "      <th>Pregnant</th>\n",
       "      <th>Glucose tolerance test</th>\n",
       "      <th>Diastolic blood pressure</th>\n",
       "      <th>Triceps thickness</th>\n",
       "      <th>2-Hour serum insulin</th>\n",
       "      <th>Body mass index</th>\n",
       "      <th>Diabetes pedigree</th>\n",
       "      <th>Age</th>\n",
       "      <th>Class variable</th>\n",
       "    </tr>\n",
       "  </thead>\n",
       "  <tbody>\n",
       "    <tr>\n",
       "      <th>0</th>\n",
       "      <td>6</td>\n",
       "      <td>148</td>\n",
       "      <td>72</td>\n",
       "      <td>35</td>\n",
       "      <td>0</td>\n",
       "      <td>33.6</td>\n",
       "      <td>0.627</td>\n",
       "      <td>50</td>\n",
       "      <td>1</td>\n",
       "    </tr>\n",
       "    <tr>\n",
       "      <th>1</th>\n",
       "      <td>1</td>\n",
       "      <td>85</td>\n",
       "      <td>66</td>\n",
       "      <td>29</td>\n",
       "      <td>0</td>\n",
       "      <td>26.6</td>\n",
       "      <td>0.351</td>\n",
       "      <td>31</td>\n",
       "      <td>0</td>\n",
       "    </tr>\n",
       "    <tr>\n",
       "      <th>2</th>\n",
       "      <td>8</td>\n",
       "      <td>183</td>\n",
       "      <td>64</td>\n",
       "      <td>0</td>\n",
       "      <td>0</td>\n",
       "      <td>23.3</td>\n",
       "      <td>0.672</td>\n",
       "      <td>32</td>\n",
       "      <td>1</td>\n",
       "    </tr>\n",
       "    <tr>\n",
       "      <th>3</th>\n",
       "      <td>1</td>\n",
       "      <td>89</td>\n",
       "      <td>66</td>\n",
       "      <td>23</td>\n",
       "      <td>94</td>\n",
       "      <td>28.1</td>\n",
       "      <td>0.167</td>\n",
       "      <td>21</td>\n",
       "      <td>0</td>\n",
       "    </tr>\n",
       "    <tr>\n",
       "      <th>4</th>\n",
       "      <td>0</td>\n",
       "      <td>137</td>\n",
       "      <td>40</td>\n",
       "      <td>35</td>\n",
       "      <td>168</td>\n",
       "      <td>43.1</td>\n",
       "      <td>2.288</td>\n",
       "      <td>33</td>\n",
       "      <td>1</td>\n",
       "    </tr>\n",
       "  </tbody>\n",
       "</table>\n",
       "</div>"
      ],
      "text/plain": [
       "   Pregnant  Glucose tolerance test  Diastolic blood pressure  \\\n",
       "0         6                     148                        72   \n",
       "1         1                      85                        66   \n",
       "2         8                     183                        64   \n",
       "3         1                      89                        66   \n",
       "4         0                     137                        40   \n",
       "\n",
       "   Triceps thickness  2-Hour serum insulin  Body mass index  \\\n",
       "0                 35                     0             33.6   \n",
       "1                 29                     0             26.6   \n",
       "2                  0                     0             23.3   \n",
       "3                 23                    94             28.1   \n",
       "4                 35                   168             43.1   \n",
       "\n",
       "   Diabetes pedigree  Age  Class variable  \n",
       "0              0.627   50               1  \n",
       "1              0.351   31               0  \n",
       "2              0.672   32               1  \n",
       "3              0.167   21               0  \n",
       "4              2.288   33               1  "
      ]
     },
     "execution_count": 2,
     "metadata": {},
     "output_type": "execute_result"
    }
   ],
   "source": [
    "\n",
    "# Use request to get data\n",
    "r = requests.get('http://archive.ics.uci.edu/ml/machine-learning-databases/pima-indians-diabetes/pima-indians-diabetes.data')\n",
    "raw_data = r.text\n",
    "\n",
    "# Save the data as a dataframe with head to understand headers\n",
    "column_names = ['Pregnant',\n",
    "                'Glucose tolerance test',\n",
    "                'Diastolic blood pressure',\n",
    "                'Triceps thickness',\n",
    "                '2-Hour serum insulin',\n",
    "                'Body mass index',\n",
    "                'Diabetes pedigree',\n",
    "                'Age',\n",
    "                'Class variable']\n",
    "# split data by '\\n' because it comes in as a large txt file and needs to be converted to a dataframe\n",
    "data = raw_data.split('\\n')\n",
    "\n",
    "pima_indian_data = pd.DataFrame(np.loadtxt(data, delimiter=\",\"), columns=column_names)\n",
    "\n",
    "# view the data\n",
    "pima_indian_data.head()"
   ]
  },
  {
   "cell_type": "code",
   "execution_count": 3,
   "metadata": {
    "collapsed": false
   },
   "outputs": [
    {
     "name": "stdout",
     "output_type": "stream",
     "text": [
      "missing Tricep thickness:227\n",
      "missing serum insulin thickness:374\n"
     ]
    },
    {
     "data": {
      "text/html": [
       "<div>\n",
       "<table border=\"1\" class=\"dataframe\">\n",
       "  <thead>\n",
       "    <tr style=\"text-align: right;\">\n",
       "      <th></th>\n",
       "      <th>Pregnant</th>\n",
       "      <th>Glucose tolerance test</th>\n",
       "      <th>Diastolic blood pressure</th>\n",
       "      <th>2-Hour serum insulin</th>\n",
       "      <th>Body mass index</th>\n",
       "      <th>Diabetes pedigree</th>\n",
       "      <th>Age</th>\n",
       "      <th>Class variable</th>\n",
       "    </tr>\n",
       "  </thead>\n",
       "  <tbody>\n",
       "    <tr>\n",
       "      <th>count</th>\n",
       "      <td>388.000000</td>\n",
       "      <td>388.000000</td>\n",
       "      <td>388.000000</td>\n",
       "      <td>388.000000</td>\n",
       "      <td>388.000000</td>\n",
       "      <td>388.000000</td>\n",
       "      <td>388.000000</td>\n",
       "      <td>388.000000</td>\n",
       "    </tr>\n",
       "    <tr>\n",
       "      <th>mean</th>\n",
       "      <td>3.324742</td>\n",
       "      <td>122.889175</td>\n",
       "      <td>71.077320</td>\n",
       "      <td>156.822165</td>\n",
       "      <td>33.042784</td>\n",
       "      <td>0.524198</td>\n",
       "      <td>30.909794</td>\n",
       "      <td>0.332474</td>\n",
       "    </tr>\n",
       "    <tr>\n",
       "      <th>std</th>\n",
       "      <td>3.219403</td>\n",
       "      <td>30.897690</td>\n",
       "      <td>11.860263</td>\n",
       "      <td>119.158687</td>\n",
       "      <td>6.932262</td>\n",
       "      <td>0.346779</td>\n",
       "      <td>10.234441</td>\n",
       "      <td>0.471708</td>\n",
       "    </tr>\n",
       "    <tr>\n",
       "      <th>min</th>\n",
       "      <td>0.000000</td>\n",
       "      <td>56.000000</td>\n",
       "      <td>40.000000</td>\n",
       "      <td>14.000000</td>\n",
       "      <td>18.200000</td>\n",
       "      <td>0.085000</td>\n",
       "      <td>21.000000</td>\n",
       "      <td>0.000000</td>\n",
       "    </tr>\n",
       "    <tr>\n",
       "      <th>25%</th>\n",
       "      <td>1.000000</td>\n",
       "      <td>99.000000</td>\n",
       "      <td>62.000000</td>\n",
       "      <td>76.750000</td>\n",
       "      <td>28.400000</td>\n",
       "      <td>0.269750</td>\n",
       "      <td>23.000000</td>\n",
       "      <td>0.000000</td>\n",
       "    </tr>\n",
       "    <tr>\n",
       "      <th>50%</th>\n",
       "      <td>2.000000</td>\n",
       "      <td>120.000000</td>\n",
       "      <td>70.000000</td>\n",
       "      <td>126.000000</td>\n",
       "      <td>33.200000</td>\n",
       "      <td>0.449500</td>\n",
       "      <td>27.000000</td>\n",
       "      <td>0.000000</td>\n",
       "    </tr>\n",
       "    <tr>\n",
       "      <th>75%</th>\n",
       "      <td>5.000000</td>\n",
       "      <td>143.250000</td>\n",
       "      <td>78.000000</td>\n",
       "      <td>190.250000</td>\n",
       "      <td>37.025000</td>\n",
       "      <td>0.687000</td>\n",
       "      <td>36.000000</td>\n",
       "      <td>1.000000</td>\n",
       "    </tr>\n",
       "    <tr>\n",
       "      <th>max</th>\n",
       "      <td>17.000000</td>\n",
       "      <td>198.000000</td>\n",
       "      <td>110.000000</td>\n",
       "      <td>846.000000</td>\n",
       "      <td>67.100000</td>\n",
       "      <td>2.420000</td>\n",
       "      <td>81.000000</td>\n",
       "      <td>1.000000</td>\n",
       "    </tr>\n",
       "  </tbody>\n",
       "</table>\n",
       "</div>"
      ],
      "text/plain": [
       "         Pregnant  Glucose tolerance test  Diastolic blood pressure  \\\n",
       "count  388.000000              388.000000                388.000000   \n",
       "mean     3.324742              122.889175                 71.077320   \n",
       "std      3.219403               30.897690                 11.860263   \n",
       "min      0.000000               56.000000                 40.000000   \n",
       "25%      1.000000               99.000000                 62.000000   \n",
       "50%      2.000000              120.000000                 70.000000   \n",
       "75%      5.000000              143.250000                 78.000000   \n",
       "max     17.000000              198.000000                110.000000   \n",
       "\n",
       "       2-Hour serum insulin  Body mass index  Diabetes pedigree         Age  \\\n",
       "count            388.000000       388.000000         388.000000  388.000000   \n",
       "mean             156.822165        33.042784           0.524198   30.909794   \n",
       "std              119.158687         6.932262           0.346779   10.234441   \n",
       "min               14.000000        18.200000           0.085000   21.000000   \n",
       "25%               76.750000        28.400000           0.269750   23.000000   \n",
       "50%              126.000000        33.200000           0.449500   27.000000   \n",
       "75%              190.250000        37.025000           0.687000   36.000000   \n",
       "max              846.000000        67.100000           2.420000   81.000000   \n",
       "\n",
       "       Class variable  \n",
       "count      388.000000  \n",
       "mean         0.332474  \n",
       "std          0.471708  \n",
       "min          0.000000  \n",
       "25%          0.000000  \n",
       "50%          0.000000  \n",
       "75%          1.000000  \n",
       "max          1.000000  "
      ]
     },
     "execution_count": 3,
     "metadata": {},
     "output_type": "execute_result"
    }
   ],
   "source": [
    "# drop missing data and make a new dataframe\n",
    "# Because diabetes research is very interested in Tricep Thickness\n",
    "# We would ideally we would like to imputtin this missing data.\n",
    "# However, for now we will drop it.\n",
    "# '2-Hour serum insulin' contains a lot of missing values and will be dropped\n",
    "# The highest mortality risk was at those extremes of blood pressure:\n",
    "# about six-fold for less than 80/40 mm Hg and two-fold for more than 210/120 mm Hg\n",
    "# http://www.medpagetoday.com/Nephrology/GeneralNephrology/41075\n",
    "# less than 40 seems unlikely for distolic blood pressure. We'll remove < 40\n",
    "\n",
    "\n",
    "print 'missing Tricep thickness:{}'.format(pima_indian_data[pima_indian_data['Triceps thickness'] == 0].shape[0])\n",
    "print 'missing serum insulin thickness:{}'.format(pima_indian_data[pima_indian_data['2-Hour serum insulin'] == 0].shape[0])\n",
    "\n",
    "pima_predict_df = pima_indian_data[(pima_indian_data['Glucose tolerance test'] > 0)& \n",
    "                     (pima_indian_data['Diastolic blood pressure'] > 39)& \n",
    "                    (pima_indian_data['Body mass index'] > 0)& \n",
    "                    (pima_indian_data['2-Hour serum insulin'] > 0)].drop(['Triceps thickness']\n",
    "                                                                    ,1).reset_index(drop=True)\n",
    "pima_predict_df.describe()"
   ]
  },
  {
   "cell_type": "markdown",
   "metadata": {},
   "source": [
    "Run k-Means on the dataset and describe your results\n",
    "=="
   ]
  },
  {
   "cell_type": "code",
   "execution_count": 581,
   "metadata": {
    "collapsed": true
   },
   "outputs": [],
   "source": [
    "# assign X and y for our model\n",
    "# Try the dataset with only the varibles given\n",
    "X, y = pima_predict_df.drop(['Class variable'], 1), pima_predict_df['Class variable']"
   ]
  },
  {
   "cell_type": "code",
   "execution_count": 582,
   "metadata": {
    "collapsed": false
   },
   "outputs": [
    {
     "data": {
      "text/html": [
       "<div>\n",
       "<table border=\"1\" class=\"dataframe\">\n",
       "  <thead>\n",
       "    <tr style=\"text-align: right;\">\n",
       "      <th></th>\n",
       "      <th>Pregnant</th>\n",
       "      <th>Glucose tolerance test</th>\n",
       "      <th>Diastolic blood pressure</th>\n",
       "      <th>2-Hour serum insulin</th>\n",
       "      <th>Body mass index</th>\n",
       "      <th>Diabetes pedigree</th>\n",
       "      <th>Age</th>\n",
       "    </tr>\n",
       "  </thead>\n",
       "  <tbody>\n",
       "    <tr>\n",
       "      <th>0</th>\n",
       "      <td>1</td>\n",
       "      <td>89</td>\n",
       "      <td>66</td>\n",
       "      <td>94</td>\n",
       "      <td>28.1</td>\n",
       "      <td>0.167</td>\n",
       "      <td>21</td>\n",
       "    </tr>\n",
       "    <tr>\n",
       "      <th>1</th>\n",
       "      <td>0</td>\n",
       "      <td>137</td>\n",
       "      <td>40</td>\n",
       "      <td>168</td>\n",
       "      <td>43.1</td>\n",
       "      <td>2.288</td>\n",
       "      <td>33</td>\n",
       "    </tr>\n",
       "  </tbody>\n",
       "</table>\n",
       "</div>"
      ],
      "text/plain": [
       "   Pregnant  Glucose tolerance test  Diastolic blood pressure  \\\n",
       "0         1                      89                        66   \n",
       "1         0                     137                        40   \n",
       "\n",
       "   2-Hour serum insulin  Body mass index  Diabetes pedigree  Age  \n",
       "0                    94             28.1              0.167   21  \n",
       "1                   168             43.1              2.288   33  "
      ]
     },
     "execution_count": 582,
     "metadata": {},
     "output_type": "execute_result"
    }
   ],
   "source": [
    "X.head(2)"
   ]
  },
  {
   "cell_type": "code",
   "execution_count": 583,
   "metadata": {
    "collapsed": false
   },
   "outputs": [
    {
     "data": {
      "text/plain": [
       "0    0\n",
       "1    1\n",
       "Name: Class variable, dtype: float64"
      ]
     },
     "execution_count": 583,
     "metadata": {},
     "output_type": "execute_result"
    }
   ],
   "source": [
    "y.head(2)"
   ]
  },
  {
   "cell_type": "code",
   "execution_count": 584,
   "metadata": {
    "collapsed": true
   },
   "outputs": [],
   "source": [
    "# Create a dataframe to scale the metrics\n",
    "# because the features are different types,\n",
    "# they are measured in different ways.\n",
    "# Scaling will help level the playing feild\n",
    "X_scale = scale(X)"
   ]
  },
  {
   "cell_type": "code",
   "execution_count": 585,
   "metadata": {
    "collapsed": true
   },
   "outputs": [],
   "source": [
    "# Setup the experiment with test/train and cv\n",
    "X_train, X_test, y_train, y_test = train_test_split(X_scale, y, \n",
    "                                                    test_size=0.2, random_state=2)\n",
    "\n",
    "cv = ShuffleSplit(X_train.shape[0], n_iter=5, test_size=0.2, random_state=6)"
   ]
  },
  {
   "cell_type": "markdown",
   "metadata": {},
   "source": [
    "\"**Silhouette analysis** can be used to study the separation distance between the resulting clusters. The silhouette plot displays a measure of how close each point in one cluster is to points in the neighboring clusters and thus provides a way to assess parameters like number of clusters visually. This measure has a range of [-1, 1].\n",
    "\n",
    "\"Silhoette coefficients (as these values are referred to as) near +1 indicate that the sample is far away from the neighboring clusters. A value of 0 indicates that the sample is on or very close to the decision boundary between two neighboring clusters and negative values indicate that those samples might have been assigned to the wrong cluster.\"\n",
    "\n",
    "-http://scikit-learn.org/stable/auto_examples/cluster/plot_kmeans_silhouette_analysis.html\n",
    "\n"
   ]
  },
  {
   "cell_type": "markdown",
   "metadata": {},
   "source": [
    "**inertia: sum of distances of samples to their closest cluster center (this helps us gauge how good our clusters are by penalizing points that are far away) - smaller is better**"
   ]
  },
  {
   "cell_type": "markdown",
   "metadata": {},
   "source": [
    "**Because the diabetes results are binary (either you have it or you dont) then we must use k=2. i.e. we are only looking for 2 populations**"
   ]
  },
  {
   "cell_type": "code",
   "execution_count": 568,
   "metadata": {
    "collapsed": false
   },
   "outputs": [
    {
     "data": {
      "text/plain": [
       "KMeans(copy_x=True, init='k-means++', max_iter=300, n_clusters=2, n_init=20,\n",
       "    n_jobs=1, precompute_distances='auto', random_state=None, tol=0.0001,\n",
       "    verbose=0)"
      ]
     },
     "execution_count": 568,
     "metadata": {},
     "output_type": "execute_result"
    }
   ],
   "source": [
    "km = KMeans(n_clusters=2, n_init=20)\n",
    "km.fit(X_train)"
   ]
  },
  {
   "cell_type": "code",
   "execution_count": 569,
   "metadata": {
    "collapsed": false
   },
   "outputs": [
    {
     "name": "stdout",
     "output_type": "stream",
     "text": [
      "Accuracy of K-means == 36.94%%\n",
      "Silhouette score is 25.46%% when K == 2\n",
      "Inertia score is 1671.77413745 when k = 2\n"
     ]
    }
   ],
   "source": [
    "test = km.predict(X_train)\n",
    "test_results = pd.concat([pd.DataFrame(test), pd.DataFrame(y_train)],1)\n",
    "test_results.columns = ['prediction', 'Class variable']\n",
    "k_accuracy = (test_results[test_results['prediction'] == test_results['Class variable']].shape[0]/test_results.shape[0])*100\n",
    "centers = km.fit_predict(X_scale)\n",
    "print 'Accuracy of K-means == {}%%'.format(round(k_accuracy,2))\n",
    "print 'Silhouette score is {}%% when K == 2'.format(float(round(silhouette_score(X_train,km.fit_predict(X_train))*100, 2)))\n",
    "print 'Inertia score is {} when k = 2'.format(float(km.inertia_))"
   ]
  },
  {
   "cell_type": "markdown",
   "metadata": {},
   "source": [
    "Run PCA on the dataset and describe your results\n",
    "==\n",
    "I will run PCA twice, just as I did K-means above."
   ]
  },
  {
   "cell_type": "code",
   "execution_count": 233,
   "metadata": {
    "collapsed": false
   },
   "outputs": [
    {
     "data": {
      "text/html": [
       "<div>\n",
       "<table border=\"1\" class=\"dataframe\">\n",
       "  <thead>\n",
       "    <tr style=\"text-align: right;\">\n",
       "      <th></th>\n",
       "      <th>Pregnant</th>\n",
       "      <th>Glucose tolerance test</th>\n",
       "      <th>Diastolic blood pressure</th>\n",
       "      <th>2-Hour serum insulin</th>\n",
       "      <th>Body mass index</th>\n",
       "      <th>Diabetes pedigree</th>\n",
       "      <th>Age</th>\n",
       "      <th>Class variable</th>\n",
       "    </tr>\n",
       "  </thead>\n",
       "  <tbody>\n",
       "    <tr>\n",
       "      <th>0</th>\n",
       "      <td>1</td>\n",
       "      <td>89</td>\n",
       "      <td>66</td>\n",
       "      <td>94</td>\n",
       "      <td>28.1</td>\n",
       "      <td>0.167</td>\n",
       "      <td>21</td>\n",
       "      <td>0</td>\n",
       "    </tr>\n",
       "    <tr>\n",
       "      <th>1</th>\n",
       "      <td>0</td>\n",
       "      <td>137</td>\n",
       "      <td>40</td>\n",
       "      <td>168</td>\n",
       "      <td>43.1</td>\n",
       "      <td>2.288</td>\n",
       "      <td>33</td>\n",
       "      <td>1</td>\n",
       "    </tr>\n",
       "    <tr>\n",
       "      <th>2</th>\n",
       "      <td>3</td>\n",
       "      <td>78</td>\n",
       "      <td>50</td>\n",
       "      <td>88</td>\n",
       "      <td>31.0</td>\n",
       "      <td>0.248</td>\n",
       "      <td>26</td>\n",
       "      <td>1</td>\n",
       "    </tr>\n",
       "    <tr>\n",
       "      <th>3</th>\n",
       "      <td>2</td>\n",
       "      <td>197</td>\n",
       "      <td>70</td>\n",
       "      <td>543</td>\n",
       "      <td>30.5</td>\n",
       "      <td>0.158</td>\n",
       "      <td>53</td>\n",
       "      <td>1</td>\n",
       "    </tr>\n",
       "    <tr>\n",
       "      <th>4</th>\n",
       "      <td>1</td>\n",
       "      <td>189</td>\n",
       "      <td>60</td>\n",
       "      <td>846</td>\n",
       "      <td>30.1</td>\n",
       "      <td>0.398</td>\n",
       "      <td>59</td>\n",
       "      <td>1</td>\n",
       "    </tr>\n",
       "  </tbody>\n",
       "</table>\n",
       "</div>"
      ],
      "text/plain": [
       "   Pregnant  Glucose tolerance test  Diastolic blood pressure  \\\n",
       "0         1                      89                        66   \n",
       "1         0                     137                        40   \n",
       "2         3                      78                        50   \n",
       "3         2                     197                        70   \n",
       "4         1                     189                        60   \n",
       "\n",
       "   2-Hour serum insulin  Body mass index  Diabetes pedigree  Age  \\\n",
       "0                    94             28.1              0.167   21   \n",
       "1                   168             43.1              2.288   33   \n",
       "2                    88             31.0              0.248   26   \n",
       "3                   543             30.5              0.158   53   \n",
       "4                   846             30.1              0.398   59   \n",
       "\n",
       "   Class variable  \n",
       "0               0  \n",
       "1               1  \n",
       "2               1  \n",
       "3               1  \n",
       "4               1  "
      ]
     },
     "execution_count": 233,
     "metadata": {},
     "output_type": "execute_result"
    }
   ],
   "source": [
    "# reload the data\n",
    "pima_predict_df = pima_indian_data[(pima_indian_data['Glucose tolerance test'] > 0)& \n",
    "                     (pima_indian_data['Diastolic blood pressure'] > 39)& \n",
    "                    (pima_indian_data['Body mass index'] > 0)& \n",
    "                    (pima_indian_data['2-Hour serum insulin'] > 0)].drop(['Triceps thickness']\n",
    "                                                                    ,1).reset_index(drop=True)\n",
    "# view the data\n",
    "pima_predict_df.head()"
   ]
  },
  {
   "cell_type": "code",
   "execution_count": 237,
   "metadata": {
    "collapsed": false
   },
   "outputs": [],
   "source": [
    "X, y = pima_predict_df.drop(['Class variable'], 1), pima_predict_df['Class variable']\n",
    "X_scale = scale(X)"
   ]
  },
  {
   "cell_type": "code",
   "execution_count": 238,
   "metadata": {
    "collapsed": false
   },
   "outputs": [
    {
     "data": {
      "text/html": [
       "<div>\n",
       "<table border=\"1\" class=\"dataframe\">\n",
       "  <thead>\n",
       "    <tr style=\"text-align: right;\">\n",
       "      <th></th>\n",
       "      <th>Pregnant</th>\n",
       "      <th>Glucose tolerance test</th>\n",
       "      <th>Diastolic blood pressure</th>\n",
       "      <th>2-Hour serum insulin</th>\n",
       "      <th>Body mass index</th>\n",
       "      <th>Diabetes pedigree</th>\n",
       "      <th>Age</th>\n",
       "    </tr>\n",
       "  </thead>\n",
       "  <tbody>\n",
       "    <tr>\n",
       "      <th>0</th>\n",
       "      <td>1</td>\n",
       "      <td>89</td>\n",
       "      <td>66</td>\n",
       "      <td>94</td>\n",
       "      <td>28.1</td>\n",
       "      <td>0.167</td>\n",
       "      <td>21</td>\n",
       "    </tr>\n",
       "    <tr>\n",
       "      <th>1</th>\n",
       "      <td>0</td>\n",
       "      <td>137</td>\n",
       "      <td>40</td>\n",
       "      <td>168</td>\n",
       "      <td>43.1</td>\n",
       "      <td>2.288</td>\n",
       "      <td>33</td>\n",
       "    </tr>\n",
       "  </tbody>\n",
       "</table>\n",
       "</div>"
      ],
      "text/plain": [
       "   Pregnant  Glucose tolerance test  Diastolic blood pressure  \\\n",
       "0         1                      89                        66   \n",
       "1         0                     137                        40   \n",
       "\n",
       "   2-Hour serum insulin  Body mass index  Diabetes pedigree  Age  \n",
       "0                    94             28.1              0.167   21  \n",
       "1                   168             43.1              2.288   33  "
      ]
     },
     "execution_count": 238,
     "metadata": {},
     "output_type": "execute_result"
    }
   ],
   "source": [
    "X.head(2)"
   ]
  },
  {
   "cell_type": "code",
   "execution_count": 239,
   "metadata": {
    "collapsed": true
   },
   "outputs": [],
   "source": [
    "# Setup the experiment with test/train and cv\n",
    "X_train, X_test, y_train, y_test = train_test_split(X_scale, y, \n",
    "                                                    test_size=0.2, random_state=2)\n",
    "\n",
    "cv = ShuffleSplit(X_train.shape[0], n_iter=5, test_size=0.2, random_state=6)"
   ]
  },
  {
   "cell_type": "code",
   "execution_count": 240,
   "metadata": {
    "collapsed": false
   },
   "outputs": [
    {
     "data": {
      "text/plain": [
       "array([[-0.41201826, -1.06582854,  0.7532886 , ..., -1.24835775,\n",
       "        -0.79460958, -0.67602281],\n",
       "       [-1.0340536 ,  0.19803146,  3.28600937, ...,  4.91920112,\n",
       "        -0.59249118, -0.4803519 ],\n",
       "       [-0.41201826, -0.35288187,  0.58444055, ...,  0.91823201,\n",
       "        -1.0082776 , -0.67602281],\n",
       "       ..., \n",
       "       [-0.41201826, -0.77416854, -1.61058412, ..., -1.21946989,\n",
       "         0.32570383, -0.96952917],\n",
       "       [ 0.21001709, -0.64454187, -0.93519191, ..., -1.30613348,\n",
       "         1.2756603 ,  0.20449627],\n",
       "       [-0.72303593,  0.23043813, -0.09095166, ..., -1.03169878,\n",
       "        -0.15071811, -0.87169371]])"
      ]
     },
     "execution_count": 240,
     "metadata": {},
     "output_type": "execute_result"
    }
   ],
   "source": [
    "X_train"
   ]
  },
  {
   "cell_type": "code",
   "execution_count": 241,
   "metadata": {
    "collapsed": false
   },
   "outputs": [
    {
     "data": {
      "text/plain": [
       "PCA(copy=True, n_components=7, whiten=True)"
      ]
     },
     "execution_count": 241,
     "metadata": {},
     "output_type": "execute_result"
    }
   ],
   "source": [
    "# create PCA will all features\n",
    "# use all features to vizualize when PCA explains 90% variance\n",
    "# use the names of the columns in X because X_train is an array\n",
    "# and therefore has no column names\n",
    "n_components_input = X.columns.shape[0]\n",
    "pca = PCA(n_components=n_components_input, whiten=True)\n",
    "pca.fit(X_train)"
   ]
  },
  {
   "cell_type": "code",
   "execution_count": 242,
   "metadata": {
    "collapsed": false
   },
   "outputs": [
    {
     "name": "stdout",
     "output_type": "stream",
     "text": [
      "[32.846461777877337, 20.477812920966251, 15.967364730154801, 13.027377176092623, 7.9660834081550265, 5.6618341849186482, 4.0530658018353147]\n",
      "[  32.84646178   53.3242747    69.29163943   82.31901661   90.28510001\n",
      "   95.9469342   100.        ]\n"
     ]
    }
   ],
   "source": [
    "tot = sum(pca.explained_variance_ratio_)\n",
    "var_exp = [(i / tot)*100 for i in sorted(pca.explained_variance_ratio_, reverse=True)]\n",
    "cum_var_exp = np.cumsum(var_exp)\n",
    "print var_exp\n",
    "print cum_var_exp"
   ]
  },
  {
   "cell_type": "code",
   "execution_count": 243,
   "metadata": {
    "collapsed": false,
    "scrolled": true
   },
   "outputs": [
    {
     "data": {
      "image/png": "[encoded data removed]",
      "text/plain": [
       "<matplotlib.figure.Figure at 0x10c7a6b50>"
      ]
     },
     "metadata": {},
     "output_type": "display_data"
    }
   ],
   "source": [
    "# plot variance\n",
    "# add dotted line at 90%\n",
    "plt.figure(figsize=(6, 4))\n",
    "\n",
    "plt.bar(range(n_components_input), var_exp, alpha=0.5, align='center', \n",
    "        label='individual explained variance')\n",
    "plt.step(range(n_components_input), cum_var_exp, where='mid',\n",
    "         label='cumulative explained variance')\n",
    "plt.ylabel('Explained variance ratio')\n",
    "plt.xlabel('Principal components')\n",
    "plt.ylim(0, 105)\n",
    "plt.legend(bbox_to_anchor=(1.65, 1.02))\n",
    "plt.axhline(y=90, ls='dashed', lw=1, color='black')\n",
    "plt.annotate('- - - 90% variance', xy=(0, 95), xytext=(0, 95))\n",
    "plt.tight_layout()"
   ]
  },
  {
   "cell_type": "markdown",
   "metadata": {},
   "source": [
    "**90% variance is explained with 5 features**"
   ]
  },
  {
   "cell_type": "code",
   "execution_count": 244,
   "metadata": {
    "collapsed": false
   },
   "outputs": [
    {
     "data": {
      "text/plain": [
       "PCA(copy=True, n_components=0.9, whiten=True)"
      ]
     },
     "execution_count": 244,
     "metadata": {},
     "output_type": "execute_result"
    }
   ],
   "source": [
    "# create PCA to explain 90% of variance\n",
    "pca = PCA(n_components=.9, whiten=True)\n",
    "pca.fit(X_train)"
   ]
  },
  {
   "cell_type": "code",
   "execution_count": 245,
   "metadata": {
    "collapsed": false
   },
   "outputs": [
    {
     "data": {
      "text/html": [
       "<div>\n",
       "<table border=\"1\" class=\"dataframe\">\n",
       "  <thead>\n",
       "    <tr style=\"text-align: right;\">\n",
       "      <th></th>\n",
       "      <th>0</th>\n",
       "      <th>1</th>\n",
       "      <th>2</th>\n",
       "      <th>3</th>\n",
       "      <th>4</th>\n",
       "      <th>5</th>\n",
       "      <th>6</th>\n",
       "    </tr>\n",
       "  </thead>\n",
       "  <tbody>\n",
       "    <tr>\n",
       "      <th>0</th>\n",
       "      <td>0.454211</td>\n",
       "      <td>0.448040</td>\n",
       "      <td>0.333258</td>\n",
       "      <td>0.343708</td>\n",
       "      <td>0.226971</td>\n",
       "      <td>0.110002</td>\n",
       "      <td>0.547851</td>\n",
       "    </tr>\n",
       "    <tr>\n",
       "      <th>1</th>\n",
       "      <td>-0.534383</td>\n",
       "      <td>0.323733</td>\n",
       "      <td>0.012158</td>\n",
       "      <td>0.449302</td>\n",
       "      <td>0.493919</td>\n",
       "      <td>0.194570</td>\n",
       "      <td>-0.354679</td>\n",
       "    </tr>\n",
       "    <tr>\n",
       "      <th>2</th>\n",
       "      <td>0.054099</td>\n",
       "      <td>0.303578</td>\n",
       "      <td>-0.694460</td>\n",
       "      <td>0.373089</td>\n",
       "      <td>-0.493466</td>\n",
       "      <td>0.190136</td>\n",
       "      <td>0.061514</td>\n",
       "    </tr>\n",
       "    <tr>\n",
       "      <th>3</th>\n",
       "      <td>-0.057510</td>\n",
       "      <td>0.160457</td>\n",
       "      <td>0.105251</td>\n",
       "      <td>0.320572</td>\n",
       "      <td>-0.173663</td>\n",
       "      <td>-0.904372</td>\n",
       "      <td>-0.095152</td>\n",
       "    </tr>\n",
       "    <tr>\n",
       "      <th>4</th>\n",
       "      <td>0.298705</td>\n",
       "      <td>-0.214270</td>\n",
       "      <td>-0.603152</td>\n",
       "      <td>-0.009381</td>\n",
       "      <td>0.651218</td>\n",
       "      <td>-0.264384</td>\n",
       "      <td>0.083656</td>\n",
       "    </tr>\n",
       "  </tbody>\n",
       "</table>\n",
       "</div>"
      ],
      "text/plain": [
       "          0         1         2         3         4         5         6\n",
       "0  0.454211  0.448040  0.333258  0.343708  0.226971  0.110002  0.547851\n",
       "1 -0.534383  0.323733  0.012158  0.449302  0.493919  0.194570 -0.354679\n",
       "2  0.054099  0.303578 -0.694460  0.373089 -0.493466  0.190136  0.061514\n",
       "3 -0.057510  0.160457  0.105251  0.320572 -0.173663 -0.904372 -0.095152\n",
       "4  0.298705 -0.214270 -0.603152 -0.009381  0.651218 -0.264384  0.083656"
      ]
     },
     "execution_count": 245,
     "metadata": {},
     "output_type": "execute_result"
    }
   ],
   "source": [
    "pd.DataFrame(pca.components_)"
   ]
  },
  {
   "cell_type": "code",
   "execution_count": 246,
   "metadata": {
    "collapsed": false
   },
   "outputs": [
    {
     "data": {
      "text/html": [
       "<div>\n",
       "<table border=\"1\" class=\"dataframe\">\n",
       "  <thead>\n",
       "    <tr style=\"text-align: right;\">\n",
       "      <th></th>\n",
       "      <th>0</th>\n",
       "      <th>1</th>\n",
       "      <th>2</th>\n",
       "      <th>3</th>\n",
       "      <th>4</th>\n",
       "    </tr>\n",
       "  </thead>\n",
       "  <tbody>\n",
       "    <tr>\n",
       "      <th>0</th>\n",
       "      <td>-0.976515</td>\n",
       "      <td>-0.844832</td>\n",
       "      <td>-0.717277</td>\n",
       "      <td>0.692721</td>\n",
       "      <td>-1.360900</td>\n",
       "    </tr>\n",
       "    <tr>\n",
       "      <th>1</th>\n",
       "      <td>0.911356</td>\n",
       "      <td>2.542940</td>\n",
       "      <td>-4.643338</td>\n",
       "      <td>0.103008</td>\n",
       "      <td>1.292719</td>\n",
       "    </tr>\n",
       "  </tbody>\n",
       "</table>\n",
       "</div>"
      ],
      "text/plain": [
       "          0         1         2         3         4\n",
       "0 -0.976515 -0.844832 -0.717277  0.692721 -1.360900\n",
       "1  0.911356  2.542940 -4.643338  0.103008  1.292719"
      ]
     },
     "execution_count": 246,
     "metadata": {},
     "output_type": "execute_result"
    }
   ],
   "source": [
    "# fit and transform PCA\n",
    "# use this in other models\n",
    "pd.DataFrame(pca.fit_transform(X_train)).head(2)"
   ]
  },
  {
   "cell_type": "markdown",
   "metadata": {},
   "source": [
    "Use the cluster outputs you got from running k-means as a new feature. Rerun your \"worst\" and \"best\" model from HW2, including this new feature along with your old features. Describe your results.\n",
    "=="
   ]
  },
  {
   "cell_type": "markdown",
   "metadata": {},
   "source": [
    "**Train k-mean with best performance. Then run k-means to predict diabetes. Append results to dataset. Use dataset on 'worst' and 'best' models form HW2.**\n",
    "\n",
    "- The best perfomring algorithm form HW2 was kNN, and the worst was MultinomialNB.\n",
    "- GaussianNB will be used instead of MultinomialNB, because MultinomialNB has a problem with negative numbers."
   ]
  },
  {
   "cell_type": "markdown",
   "metadata": {},
   "source": [
    "Use kNN to get baseline accuracy\n",
    "=="
   ]
  },
  {
   "cell_type": "code",
   "execution_count": 589,
   "metadata": {
    "collapsed": true
   },
   "outputs": [],
   "source": [
    "X, y = pima_predict_df.drop(['Class variable'], 1), pima_predict_df['Class variable']\n",
    "X_scale = scale(X)\n",
    "# Setup the experiment with test/train and cv\n",
    "X_train, X_test, y_train, y_test = train_test_split(X_scale, y, \n",
    "                                                    test_size=0.2, random_state=2)\n",
    "\n",
    "cv = ShuffleSplit(X_train.shape[0], n_iter=5, test_size=0.2, random_state=6)"
   ]
  },
  {
   "cell_type": "code",
   "execution_count": 590,
   "metadata": {
    "collapsed": false
   },
   "outputs": [
    {
     "data": {
      "text/plain": [
       "0    float64\n",
       "1    float64\n",
       "2    float64\n",
       "3    float64\n",
       "4    float64\n",
       "5    float64\n",
       "6    float64\n",
       "dtype: object"
      ]
     },
     "execution_count": 590,
     "metadata": {},
     "output_type": "execute_result"
    }
   ],
   "source": [
    "pd.DataFrame(X_train).dtypes"
   ]
  },
  {
   "cell_type": "code",
   "execution_count": 591,
   "metadata": {
    "collapsed": false
   },
   "outputs": [
    {
     "data": {
      "text/plain": [
       "KNeighborsClassifier(algorithm='auto', leaf_size=30, metric='minkowski',\n",
       "           metric_params=None, n_neighbors=1, p=2, weights='uniform')"
      ]
     },
     "execution_count": 591,
     "metadata": {},
     "output_type": "execute_result"
    }
   ],
   "source": [
    "knn = KNeighborsClassifier(n_neighbors=1, weights='uniform', p=2)\n",
    "knn.fit(X_train, y_train)"
   ]
  },
  {
   "cell_type": "code",
   "execution_count": 592,
   "metadata": {
    "collapsed": false
   },
   "outputs": [
    {
     "data": {
      "image/png": "[encoded data removed]",
      "text/plain": [
       "<matplotlib.figure.Figure at 0x10bcd8510>"
      ]
     },
     "metadata": {},
     "output_type": "display_data"
    }
   ],
   "source": [
    "# use matplotlib to make a visualization showing how the score\n",
    "# changes when we change n_neighbors\n",
    "scores = []\n",
    "n_neighbors = range(1, 101)\n",
    "for n in n_neighbors:\n",
    "    knn = KNeighborsClassifier(n_neighbors=n, weights='uniform', p=2)\n",
    "    knn.fit(X_train, y_train)\n",
    "    scores.append(knn.score(X_test, y_test))\n",
    "    \n",
    "plt.plot(n_neighbors, scores)\n",
    "plt.ylim(.7, .81);"
   ]
  },
  {
   "cell_type": "code",
   "execution_count": 463,
   "metadata": {
    "collapsed": false
   },
   "outputs": [
    {
     "name": "stdout",
     "output_type": "stream",
     "text": [
      "Max accuracy score is 80.77%%\n",
      "K == 47 when the accuracy score is the greatest\n"
     ]
    }
   ],
   "source": [
    "kNN_results = pd.DataFrame(n_neighbors)\n",
    "kNN_results['accuracy'] = scores\n",
    "kNN_results.columns = ['k', 'accuracy']\n",
    "accuracy_max_k = kNN_results[kNN_results['accuracy'] == kNN_results['accuracy'].max()]['k'].reset_index(drop=True)[0]\n",
    "print 'Max accuracy score is {}%%'.format(float(round(kNN_results['accuracy'].max(), 4)*100))\n",
    "print 'K == {} when the accuracy score is the greatest'.format(accuracy_max_k)"
   ]
  },
  {
   "cell_type": "markdown",
   "metadata": {},
   "source": [
    "**kNN alone, accuracy is 80.77%**"
   ]
  },
  {
   "cell_type": "markdown",
   "metadata": {},
   "source": [
    "Use kNN to predict diabetes using predictions form K-means as a new feature\n",
    "=="
   ]
  },
  {
   "cell_type": "code",
   "execution_count": 595,
   "metadata": {
    "collapsed": true
   },
   "outputs": [],
   "source": [
    "X, y = pima_predict_df.drop(['Class variable'], 1), pima_predict_df['Class variable']\n",
    "X_scale = scale(X)\n",
    "\n",
    "# Setup the experiment with test/train and cv\n",
    "X_train, X_test, y_train, y_test = train_test_split(X_scale, y, \n",
    "                                                    test_size=0.2, random_state=2)\n",
    "\n",
    "\n",
    "cv = ShuffleSplit(X_train.shape[0], n_iter=5, test_size=0.2, random_state=6)\n",
    "\n",
    "X_train = pd.DataFrame(X_train)\n",
    "X_test = pd.DataFrame(X_test)\n",
    "y_train = pd.DataFrame(y_train)\n",
    "y_test = pd.DataFrame(y_test)\n",
    "\n",
    "km = KMeans(n_clusters=2, n_init=20)\n",
    "km.fit(X_train)\n",
    "\n",
    "X_train['cluster outputs'] = pd.Categorical(km.predict(X_train))\n",
    "X_test['cluster outputs'] = pd.Categorical(km.predict(X_test))"
   ]
  },
  {
   "cell_type": "code",
   "execution_count": 596,
   "metadata": {
    "collapsed": false
   },
   "outputs": [
    {
     "data": {
      "text/html": [
       "<div>\n",
       "<table border=\"1\" class=\"dataframe\">\n",
       "  <thead>\n",
       "    <tr style=\"text-align: right;\">\n",
       "      <th></th>\n",
       "      <th>0</th>\n",
       "      <th>1</th>\n",
       "      <th>2</th>\n",
       "      <th>3</th>\n",
       "      <th>4</th>\n",
       "      <th>5</th>\n",
       "      <th>6</th>\n",
       "      <th>cluster outputs</th>\n",
       "    </tr>\n",
       "  </thead>\n",
       "  <tbody>\n",
       "    <tr>\n",
       "      <th>0</th>\n",
       "      <td>-0.412018</td>\n",
       "      <td>-1.065829</td>\n",
       "      <td>0.753289</td>\n",
       "      <td>-0.855612</td>\n",
       "      <td>-1.248358</td>\n",
       "      <td>-0.794610</td>\n",
       "      <td>-0.676023</td>\n",
       "      <td>0</td>\n",
       "    </tr>\n",
       "    <tr>\n",
       "      <th>1</th>\n",
       "      <td>-1.034054</td>\n",
       "      <td>0.198031</td>\n",
       "      <td>3.286009</td>\n",
       "      <td>-0.225387</td>\n",
       "      <td>4.919201</td>\n",
       "      <td>-0.592491</td>\n",
       "      <td>-0.480352</td>\n",
       "      <td>1</td>\n",
       "    </tr>\n",
       "  </tbody>\n",
       "</table>\n",
       "</div>"
      ],
      "text/plain": [
       "          0         1         2         3         4         5         6  \\\n",
       "0 -0.412018 -1.065829  0.753289 -0.855612 -1.248358 -0.794610 -0.676023   \n",
       "1 -1.034054  0.198031  3.286009 -0.225387  4.919201 -0.592491 -0.480352   \n",
       "\n",
       "  cluster outputs  \n",
       "0               0  \n",
       "1               1  "
      ]
     },
     "execution_count": 596,
     "metadata": {},
     "output_type": "execute_result"
    }
   ],
   "source": [
    "X_train.head(2)"
   ]
  },
  {
   "cell_type": "code",
   "execution_count": 597,
   "metadata": {
    "collapsed": false
   },
   "outputs": [
    {
     "data": {
      "text/html": [
       "<div>\n",
       "<table border=\"1\" class=\"dataframe\">\n",
       "  <thead>\n",
       "    <tr style=\"text-align: right;\">\n",
       "      <th></th>\n",
       "      <th>0</th>\n",
       "      <th>1</th>\n",
       "      <th>2</th>\n",
       "      <th>3</th>\n",
       "      <th>4</th>\n",
       "      <th>5</th>\n",
       "      <th>6</th>\n",
       "      <th>cluster outputs</th>\n",
       "    </tr>\n",
       "  </thead>\n",
       "  <tbody>\n",
       "    <tr>\n",
       "      <th>0</th>\n",
       "      <td>-0.101001</td>\n",
       "      <td>0.198031</td>\n",
       "      <td>-0.597496</td>\n",
       "      <td>-0.351432</td>\n",
       "      <td>-0.959479</td>\n",
       "      <td>-0.881232</td>\n",
       "      <td>-0.284681</td>\n",
       "      <td>0</td>\n",
       "    </tr>\n",
       "    <tr>\n",
       "      <th>1</th>\n",
       "      <td>0.832052</td>\n",
       "      <td>0.910978</td>\n",
       "      <td>-0.766344</td>\n",
       "      <td>-0.309417</td>\n",
       "      <td>0.354919</td>\n",
       "      <td>0.484511</td>\n",
       "      <td>-0.284681</td>\n",
       "      <td>1</td>\n",
       "    </tr>\n",
       "  </tbody>\n",
       "</table>\n",
       "</div>"
      ],
      "text/plain": [
       "          0         1         2         3         4         5         6  \\\n",
       "0 -0.101001  0.198031 -0.597496 -0.351432 -0.959479 -0.881232 -0.284681   \n",
       "1  0.832052  0.910978 -0.766344 -0.309417  0.354919  0.484511 -0.284681   \n",
       "\n",
       "  cluster outputs  \n",
       "0               0  \n",
       "1               1  "
      ]
     },
     "execution_count": 597,
     "metadata": {},
     "output_type": "execute_result"
    }
   ],
   "source": [
    "X_test.head(2)"
   ]
  },
  {
   "cell_type": "code",
   "execution_count": 598,
   "metadata": {
    "collapsed": false
   },
   "outputs": [
    {
     "data": {
      "image/png": "[encoded data removed]",
      "text/plain": [
       "<matplotlib.figure.Figure at 0x10c21f610>"
      ]
     },
     "metadata": {},
     "output_type": "display_data"
    }
   ],
   "source": [
    "from sklearn.neighbors import KNeighborsClassifier\n",
    "# use matplotlib to make a visualization showing how the score\n",
    "# changes when we change n_neighbors\n",
    "# YOUR CODE HERE\n",
    "scores = []\n",
    "n_neighbors = range(1, 101)\n",
    "for n in n_neighbors:\n",
    "    knn = KNeighborsClassifier(n_neighbors=n, weights='uniform', p=2)\n",
    "    knn.fit(X_train, pd.Categorical(y_train['Class variable']))\n",
    "    scores.append(knn.score(X_test, pd.Categorical(y_test['Class variable'])))\n",
    "    \n",
    "plt.plot(n_neighbors, scores)\n",
    "plt.ylim(.7, .81);"
   ]
  },
  {
   "cell_type": "code",
   "execution_count": 478,
   "metadata": {
    "collapsed": false
   },
   "outputs": [
    {
     "name": "stdout",
     "output_type": "stream",
     "text": [
      "Max accuracy score is 80.77%%\n",
      "K == 42 when the accuracy score is the greatest\n"
     ]
    }
   ],
   "source": [
    "kNN_results = pd.DataFrame(n_neighbors)\n",
    "kNN_results['accuracy'] = scores\n",
    "kNN_results.columns = ['k', 'accuracy']\n",
    "accuracy_max_k = kNN_results[kNN_results['accuracy'] == kNN_results['accuracy'].max()]['k'].reset_index(drop=True)[0]\n",
    "print 'Max accuracy score is {}%%'.format(float(round(kNN_results['accuracy'].max(), 4)*100))\n",
    "print 'K == {} when the accuracy score is the greatest'.format(accuracy_max_k)"
   ]
  },
  {
   "cell_type": "code",
   "execution_count": 479,
   "metadata": {
    "collapsed": false
   },
   "outputs": [
    {
     "name": "stdout",
     "output_type": "stream",
     "text": [
      "0.807692307692\n"
     ]
    }
   ],
   "source": [
    "knn = KNeighborsClassifier(n_neighbors=accuracy_max_k, weights='uniform', p=2)\n",
    "knn.fit(X_train, pd.Categorical(y_train['Class variable']))\n",
    "print knn.score(X_test, pd.Categorical(y_test['Class variable']))"
   ]
  },
  {
   "cell_type": "markdown",
   "metadata": {},
   "source": [
    "**Using kNN with predictions from K-means is much larger than using k-means alone, but the same as kNN**"
   ]
  },
  {
   "cell_type": "markdown",
   "metadata": {},
   "source": [
    "Use GaussianNb to get baseline accuracy\n",
    "=="
   ]
  },
  {
   "cell_type": "code",
   "execution_count": 601,
   "metadata": {
    "collapsed": true
   },
   "outputs": [],
   "source": [
    "X, y = pima_predict_df.drop(['Class variable'], 1), pima_predict_df['Class variable']\n",
    "X_scale = scale(X)\n",
    "# Setup the experiment with test/train and cv\n",
    "X_train, X_test, y_train, y_test = train_test_split(X_scale, y, \n",
    "                                                    test_size=0.2, random_state=2)\n",
    "\n",
    "cv = ShuffleSplit(X_train.shape[0], n_iter=5, test_size=0.2, random_state=6)"
   ]
  },
  {
   "cell_type": "code",
   "execution_count": 602,
   "metadata": {
    "collapsed": true
   },
   "outputs": [],
   "source": [
    "from sklearn.naive_bayes import GaussianNB\n",
    "# run GaussianNB because MultinomialNB was unable to work with negative numbers\n",
    "gnb = GaussianNB()\n",
    "fit = gnb.fit(X_train, y_train)"
   ]
  },
  {
   "cell_type": "code",
   "execution_count": 603,
   "metadata": {
    "collapsed": false
   },
   "outputs": [
    {
     "name": "stdout",
     "output_type": "stream",
     "text": [
      "\n",
      "Prediction accuracy for the training dataset\n",
      "78.06%\n",
      "\n",
      "Prediction accuracy for the test dataset\n",
      "75.64%\n",
      "\n"
     ]
    }
   ],
   "source": [
    "from sklearn import metrics\n",
    "\n",
    "pred_train = gnb.predict(X_train)\n",
    "\n",
    "print('\\nPrediction accuracy for the training dataset')\n",
    "print('{:.2%}'.format(metrics.accuracy_score(y_train, pred_train)))\n",
    "\n",
    "pred_test = gnb.predict(X_test)\n",
    "\n",
    "print('\\nPrediction accuracy for the test dataset')\n",
    "print('{:.2%}\\n'.format(metrics.accuracy_score(y_test, pred_test)))"
   ]
  },
  {
   "cell_type": "markdown",
   "metadata": {},
   "source": [
    "Use GaussianNb to predict diabetes using predictions form K-means as a new feature\n",
    "=="
   ]
  },
  {
   "cell_type": "code",
   "execution_count": 605,
   "metadata": {
    "collapsed": false
   },
   "outputs": [],
   "source": [
    "X, y = pima_predict_df.drop(['Class variable'], 1), pima_predict_df['Class variable']\n",
    "X_scale = scale(X)\n",
    "\n",
    "# Setup the experiment with test/train and cv\n",
    "X_train, X_test, y_train, y_test = train_test_split(X_scale, y, \n",
    "                                                    test_size=0.2, random_state=2)\n",
    "\n",
    "\n",
    "cv = ShuffleSplit(X_train.shape[0], n_iter=5, test_size=0.2, random_state=6)\n",
    "\n",
    "X_train = pd.DataFrame(X_train)\n",
    "X_test = pd.DataFrame(X_test)\n",
    "y_train = pd.DataFrame(y_train)\n",
    "y_test = pd.DataFrame(y_test)\n",
    "\n",
    "km = KMeans(n_clusters=2, n_init=20)\n",
    "km.fit(X_train)\n",
    "\n",
    "X_train['cluster outputs'] = pd.Categorical(km.predict(X_train))\n",
    "X_test['cluster outputs'] = pd.Categorical(km.predict(X_test))"
   ]
  },
  {
   "cell_type": "code",
   "execution_count": 606,
   "metadata": {
    "collapsed": false
   },
   "outputs": [
    {
     "data": {
      "text/html": [
       "<div>\n",
       "<table border=\"1\" class=\"dataframe\">\n",
       "  <thead>\n",
       "    <tr style=\"text-align: right;\">\n",
       "      <th></th>\n",
       "      <th>0</th>\n",
       "      <th>1</th>\n",
       "      <th>2</th>\n",
       "      <th>3</th>\n",
       "      <th>4</th>\n",
       "      <th>5</th>\n",
       "      <th>6</th>\n",
       "      <th>cluster outputs</th>\n",
       "    </tr>\n",
       "  </thead>\n",
       "  <tbody>\n",
       "    <tr>\n",
       "      <th>0</th>\n",
       "      <td>-0.412018</td>\n",
       "      <td>-1.065829</td>\n",
       "      <td>0.753289</td>\n",
       "      <td>-0.855612</td>\n",
       "      <td>-1.248358</td>\n",
       "      <td>-0.794610</td>\n",
       "      <td>-0.676023</td>\n",
       "      <td>0</td>\n",
       "    </tr>\n",
       "    <tr>\n",
       "      <th>1</th>\n",
       "      <td>-1.034054</td>\n",
       "      <td>0.198031</td>\n",
       "      <td>3.286009</td>\n",
       "      <td>-0.225387</td>\n",
       "      <td>4.919201</td>\n",
       "      <td>-0.592491</td>\n",
       "      <td>-0.480352</td>\n",
       "      <td>1</td>\n",
       "    </tr>\n",
       "  </tbody>\n",
       "</table>\n",
       "</div>"
      ],
      "text/plain": [
       "          0         1         2         3         4         5         6  \\\n",
       "0 -0.412018 -1.065829  0.753289 -0.855612 -1.248358 -0.794610 -0.676023   \n",
       "1 -1.034054  0.198031  3.286009 -0.225387  4.919201 -0.592491 -0.480352   \n",
       "\n",
       "  cluster outputs  \n",
       "0               0  \n",
       "1               1  "
      ]
     },
     "execution_count": 606,
     "metadata": {},
     "output_type": "execute_result"
    }
   ],
   "source": [
    "X_train.head(2)"
   ]
  },
  {
   "cell_type": "code",
   "execution_count": 607,
   "metadata": {
    "collapsed": false
   },
   "outputs": [
    {
     "data": {
      "text/html": [
       "<div>\n",
       "<table border=\"1\" class=\"dataframe\">\n",
       "  <thead>\n",
       "    <tr style=\"text-align: right;\">\n",
       "      <th></th>\n",
       "      <th>0</th>\n",
       "      <th>1</th>\n",
       "      <th>2</th>\n",
       "      <th>3</th>\n",
       "      <th>4</th>\n",
       "      <th>5</th>\n",
       "      <th>6</th>\n",
       "      <th>cluster outputs</th>\n",
       "    </tr>\n",
       "  </thead>\n",
       "  <tbody>\n",
       "    <tr>\n",
       "      <th>0</th>\n",
       "      <td>-0.101001</td>\n",
       "      <td>0.198031</td>\n",
       "      <td>-0.597496</td>\n",
       "      <td>-0.351432</td>\n",
       "      <td>-0.959479</td>\n",
       "      <td>-0.881232</td>\n",
       "      <td>-0.284681</td>\n",
       "      <td>0</td>\n",
       "    </tr>\n",
       "    <tr>\n",
       "      <th>1</th>\n",
       "      <td>0.832052</td>\n",
       "      <td>0.910978</td>\n",
       "      <td>-0.766344</td>\n",
       "      <td>-0.309417</td>\n",
       "      <td>0.354919</td>\n",
       "      <td>0.484511</td>\n",
       "      <td>-0.284681</td>\n",
       "      <td>1</td>\n",
       "    </tr>\n",
       "  </tbody>\n",
       "</table>\n",
       "</div>"
      ],
      "text/plain": [
       "          0         1         2         3         4         5         6  \\\n",
       "0 -0.101001  0.198031 -0.597496 -0.351432 -0.959479 -0.881232 -0.284681   \n",
       "1  0.832052  0.910978 -0.766344 -0.309417  0.354919  0.484511 -0.284681   \n",
       "\n",
       "  cluster outputs  \n",
       "0               0  \n",
       "1               1  "
      ]
     },
     "execution_count": 607,
     "metadata": {},
     "output_type": "execute_result"
    }
   ],
   "source": [
    "X_test.head(2)"
   ]
  },
  {
   "cell_type": "code",
   "execution_count": 608,
   "metadata": {
    "collapsed": false
   },
   "outputs": [
    {
     "name": "stderr",
     "output_type": "stream",
     "text": [
      "//anaconda/lib/python2.7/site-packages/sklearn/utils/validation.py:449: DataConversionWarning: A column-vector y was passed when a 1d array was expected. Please change the shape of y to (n_samples, ), for example using ravel().\n",
      "  y = column_or_1d(y, warn=True)\n"
     ]
    }
   ],
   "source": [
    "# run GaussianNB\n",
    "gnb = GaussianNB()\n",
    "fit = gnb.fit(X_train, y_train)\n"
   ]
  },
  {
   "cell_type": "code",
   "execution_count": 609,
   "metadata": {
    "collapsed": false
   },
   "outputs": [
    {
     "name": "stdout",
     "output_type": "stream",
     "text": [
      "\n",
      "Prediction accuracy for the training dataset\n",
      "74.84%\n",
      "\n",
      "Prediction accuracy for the test dataset\n",
      "74.36%\n",
      "\n"
     ]
    }
   ],
   "source": [
    "from sklearn import metrics\n",
    "\n",
    "pred_train = gnb.predict(X_train)\n",
    "\n",
    "print('\\nPrediction accuracy for the training dataset')\n",
    "print('{:.2%}'.format(metrics.accuracy_score(y_train, pred_train)))\n",
    "\n",
    "pred_test = gnb.predict(X_test)\n",
    "\n",
    "print('\\nPrediction accuracy for the test dataset')\n",
    "print('{:.2%}\\n'.format(metrics.accuracy_score(y_test, pred_test)))"
   ]
  },
  {
   "cell_type": "markdown",
   "metadata": {},
   "source": [
    "**Using bayes with predictions from K-means did worse than GaussianNB, kNN, and kNN with k-means predictors. However, using bayes GaussianNB with k-means predictors did better than k-means alone.**"
   ]
  },
  {
   "cell_type": "markdown",
   "metadata": {},
   "source": [
    "Use the PCA outputs you got from running PCA above as your features. Rerun your \"worst\" and \"best\" model from HW2, - with the PCA features instead of your old features. Describe your results.\n",
    "=="
   ]
  },
  {
   "cell_type": "markdown",
   "metadata": {},
   "source": [
    "**Use kNN**\n",
    "=="
   ]
  },
  {
   "cell_type": "code",
   "execution_count": 611,
   "metadata": {
    "collapsed": true
   },
   "outputs": [],
   "source": [
    "# Setup the experiment with test/train and cv\n",
    "X, y = pima_predict_df.drop(['Class variable'], 1), pima_predict_df['Class variable']\n",
    "X_scale = scale(X)\n",
    "X_train, X_test, y_train, y_test = train_test_split(X_scale, y, \n",
    "                                                    test_size=0.2, random_state=2)\n",
    "\n",
    "cv = ShuffleSplit(X_train.shape[0], n_iter=5, test_size=0.2, random_state=6)"
   ]
  },
  {
   "cell_type": "code",
   "execution_count": 612,
   "metadata": {
    "collapsed": false
   },
   "outputs": [
    {
     "data": {
      "text/plain": [
       "PCA(copy=True, n_components=0.9, whiten=True)"
      ]
     },
     "execution_count": 612,
     "metadata": {},
     "output_type": "execute_result"
    }
   ],
   "source": [
    "# create PCA to explain 90% of variance\n",
    "pca = PCA(n_components=.9, whiten=True)\n",
    "pca.fit(X_train)"
   ]
  },
  {
   "cell_type": "code",
   "execution_count": 613,
   "metadata": {
    "collapsed": false
   },
   "outputs": [
    {
     "data": {
      "image/png": "[encoded data removed]",
      "text/plain": [
       "<matplotlib.figure.Figure at 0x10b8cf790>"
      ]
     },
     "metadata": {},
     "output_type": "display_data"
    }
   ],
   "source": [
    "from sklearn.neighbors import KNeighborsClassifier\n",
    "# use matplotlib to make a visualization showing how the score\n",
    "# changes when we change n_neighbors\n",
    "# YOUR CODE HERE\n",
    "scores = []\n",
    "n_neighbors = range(1, 101)\n",
    "for n in n_neighbors:\n",
    "    knn = KNeighborsClassifier(n_neighbors=n, weights='uniform', p=2)\n",
    "    knn.fit(pca.fit_transform(X_train), y_train)\n",
    "    scores.append(knn.score(pca.fit_transform(X_test), y_test))\n",
    "    \n",
    "plt.plot(n_neighbors, scores)\n",
    "plt.ylim(.64, .76);"
   ]
  },
  {
   "cell_type": "code",
   "execution_count": 495,
   "metadata": {
    "collapsed": false
   },
   "outputs": [
    {
     "name": "stdout",
     "output_type": "stream",
     "text": [
      "Max accuracy score is 75.64%%\n",
      "K == 32 when the accuracy score is the greatest\n"
     ]
    }
   ],
   "source": [
    "kNN_results = pd.DataFrame(n_neighbors)\n",
    "kNN_results['accuracy'] = scores\n",
    "kNN_results.columns = ['k', 'accuracy']\n",
    "accuracy_max_k = kNN_results[kNN_results['accuracy'] == kNN_results['accuracy'].max()]['k'].reset_index(drop=True)[0]\n",
    "print 'Max accuracy score is {}%%'.format(float(round(kNN_results['accuracy'].max(), 4)*100))\n",
    "print 'K == {} when the accuracy score is the greatest'.format(accuracy_max_k)"
   ]
  },
  {
   "cell_type": "code",
   "execution_count": 496,
   "metadata": {
    "collapsed": false
   },
   "outputs": [
    {
     "name": "stdout",
     "output_type": "stream",
     "text": [
      "0.75641025641\n"
     ]
    }
   ],
   "source": [
    "knn = KNeighborsClassifier(n_neighbors=accuracy_max_k, weights='uniform', p=2)\n",
    "knn.fit(pca.fit_transform(X_train), y_train)\n",
    "print knn.score(pca.fit_transform(X_test), y_test)"
   ]
  },
  {
   "cell_type": "markdown",
   "metadata": {},
   "source": [
    "**Using kNN with PCA performed worse than kNN with k-means**"
   ]
  },
  {
   "cell_type": "markdown",
   "metadata": {},
   "source": [
    "**Use GaussianNb**\n",
    "=="
   ]
  },
  {
   "cell_type": "code",
   "execution_count": 615,
   "metadata": {
    "collapsed": true
   },
   "outputs": [],
   "source": [
    "# Setup the experiment with test/train and cv\n",
    "X, y = pima_predict_df.drop(['Class variable'], 1), pima_predict_df['Class variable']\n",
    "X_scale = scale(X)\n",
    "\n",
    "# Setup the experiment with test/train and cv\n",
    "X_train, X_test, y_train, y_test = train_test_split(X_scale, y, \n",
    "                                                    test_size=0.2, random_state=2)\n",
    "\n",
    "\n",
    "cv = ShuffleSplit(X_train.shape[0], n_iter=5, test_size=0.2, random_state=6)\n",
    "\n",
    "pca = PCA(n_components=.9).fit(X_train)\n",
    "X_train = pca.transform(X_train)\n",
    "X_test = pca.transform(X_test)"
   ]
  },
  {
   "cell_type": "code",
   "execution_count": 616,
   "metadata": {
    "collapsed": true
   },
   "outputs": [],
   "source": [
    "# on non-standardized data\n",
    "gnb = GaussianNB()\n",
    "fit = gnb.fit(X_train, y_train)"
   ]
  },
  {
   "cell_type": "code",
   "execution_count": 617,
   "metadata": {
    "collapsed": false
   },
   "outputs": [
    {
     "name": "stdout",
     "output_type": "stream",
     "text": [
      "\n",
      "Prediction accuracy for the training dataset\n",
      "77.10%\n",
      "\n",
      "Prediction accuracy for the test dataset\n",
      "71.79%\n",
      "\n"
     ]
    }
   ],
   "source": [
    "from sklearn import metrics\n",
    "\n",
    "pred_train = gnb.predict(X_train)\n",
    "\n",
    "print('\\nPrediction accuracy for the training dataset')\n",
    "print('{:.2%}'.format(metrics.accuracy_score(y_train, pred_train)))\n",
    "\n",
    "pred_test = gnb.predict(X_test)\n",
    "\n",
    "print('\\nPrediction accuracy for the test dataset')\n",
    "print('{:.2%}\\n'.format(metrics.accuracy_score(y_test, pred_test)))"
   ]
  },
  {
   "cell_type": "markdown",
   "metadata": {},
   "source": [
    "**When compared to using k-means predictors as variables, using GaussianNB with PCA lead to higher accuracy results in training data, but lower accuracy results in test data**"
   ]
  },
  {
   "cell_type": "code",
   "execution_count": null,
   "metadata": {
    "collapsed": true
   },
   "outputs": [],
   "source": []
  },
  {
   "cell_type": "code",
   "execution_count": null,
   "metadata": {
    "collapsed": false
   },
   "outputs": [],
   "source": []
  }
 ],
 "metadata": {
  "kernelspec": {
   "display_name": "Python 2",
   "language": "python",
   "name": "python2"
  },
  "language_info": {
   "codemirror_mode": {
    "name": "ipython",
    "version": 2
   },
   "file_extension": ".py",
   "mimetype": "text/x-python",
   "name": "python",
   "nbconvert_exporter": "python",
   "pygments_lexer": "ipython2",
   "version": "2.7.10"
  }
 },
 "nbformat": 4,
 "nbformat_minor": 0
}
